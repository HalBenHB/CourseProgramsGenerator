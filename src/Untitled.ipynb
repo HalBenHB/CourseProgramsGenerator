{
 "cells": [
  {
   "metadata": {},
   "cell_type": "code",
   "source": [
    "import pandas as pd\n",
    "\n",
    "df = pd.read_excel('C://Users//Halil//Pythons//CourseProgramsGenerator//data//input//course_offered_2425F.xls')"
   ],
   "id": "da383f2ea511cf2",
   "outputs": [],
   "execution_count": null
  },
  {
   "metadata": {},
   "cell_type": "code",
   "source": [
    "courses = {}\n",
    "for index, row in df.iterrows():\n",
    "    subject = str(row['SUBJECT']).strip() if pd.notna(row['SUBJECT']) else None\n",
    "    course_no = str(row['COURSENO']).strip() if pd.notna(row['COURSENO']) else None\n",
    "    section_no = str(row['SECTIONNO']).strip() if pd.notna(row['SECTIONNO']) else None\n",
    "    title = str(row['TITLE']).strip() if pd.notna(row['TITLE']) else None\n",
    "    faculty = str(row['FACULTY']).strip() if pd.notna(row['FACULTY']) else None\n",
    "    ects_credits = row['CREDITS'] if pd.notna(row['CREDITS']) else None\n",
    "    instructor_full_name = str(row['INSTRUCTORFULLNAME']).strip() if pd.notna(row['INSTRUCTORFULLNAME']) else None\n",
    "    corequisites = str(row['COREQUISITE']).strip() if pd.notna(row['COREQUISITE']) else None\n",
    "    prequisites = str(row['PREREQUISITE']).strip() if pd.notna(row['PREREQUISITE']) else None\n",
    "    description = str(row['DESCRIPTION']).strip() if pd.notna(row['DESCRIPTION']) else None\n",
    "    schedule_for_print = str(row['SCHEDULEFORPRINT']).strip() if pd.notna(row['SCHEDULEFORPRINT']) else None\n",
    "\n",
    "    corequisite_list = [corequisite for corequisite in corequisites.split(\" and \")] if corequisites else []\n",
    "\n",
    "    schedule_list = []\n",
    "    if schedule_for_print:\n",
    "        for time_slots in schedule_for_print.split(\"\\n\"):\n",
    "            print(schedule_for_print)\n",
    "            day, interval = time_slots.split(\" | \")\n",
    "            interval = interval.replace(\":\", \".\")\n",
    "            start_time, end_time = interval.split(\" - \")\n",
    "            schedule_list.append({\n",
    "                \"day\": day,\n",
    "                \"interval\": interval}\n",
    "            )\n",
    "\n",
    "    course_code = f\"{subject} {course_no}.{section_no}\"\n",
    "    course_id = f\"{subject} {course_no}\"\n",
    "\n",
    "    courses[course_code] = {\n",
    "\n",
    "        \"course_code\": course_code,\n",
    "        \"course_name\": title,\n",
    "        \"credits\": ects_credits,\n",
    "        \"schedule\": schedule_list,\n",
    "        \"subject\": subject,\n",
    "        \"course_no\": course_no,\n",
    "        \"section_no\": section_no,\n",
    "        \"course_id\": course_id,\n",
    "        \"faculty\": faculty,\n",
    "        \"instructor_full_name\": instructor_full_name,\n",
    "        \"corequisites\": corequisite_list,\n",
    "        \"prequisites\": prequisites,\n",
    "        \"description\": description,\n",
    "    }\n",
    "print(courses)"
   ],
   "id": "eda5d0502df68ef9",
   "outputs": [],
   "execution_count": null
  },
  {
   "metadata": {},
   "cell_type": "code",
   "source": "",
   "id": "b886d2e36d0735bc",
   "outputs": [],
   "execution_count": null
  },
  {
   "metadata": {},
   "cell_type": "code",
   "source": "",
   "id": "a69f602e88021054",
   "outputs": [],
   "execution_count": null
  }
 ],
 "metadata": {
  "kernelspec": {
   "display_name": "Python 3 (ipykernel)",
   "language": "python",
   "name": "python3"
  },
  "language_info": {
   "codemirror_mode": {
    "name": "ipython",
    "version": 3
   },
   "file_extension": ".py",
   "mimetype": "text/x-python",
   "name": "python",
   "nbconvert_exporter": "python",
   "pygments_lexer": "ipython3",
   "version": "3.11.3"
  }
 },
 "nbformat": 4,
 "nbformat_minor": 5
}
